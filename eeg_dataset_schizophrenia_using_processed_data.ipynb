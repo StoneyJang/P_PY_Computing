{
  "nbformat": 4,
  "nbformat_minor": 0,
  "metadata": {
    "colab": {
      "provenance": [],
      "authorship_tag": "ABX9TyM3EGlr5NQzqWmBCQbvcP9y",
      "include_colab_link": true
    },
    "kernelspec": {
      "name": "python3",
      "display_name": "Python 3"
    },
    "language_info": {
      "name": "python"
    }
  },
  "cells": [
    {
      "cell_type": "markdown",
      "metadata": {
        "id": "view-in-github",
        "colab_type": "text"
      },
      "source": [
        "<a href=\"https://colab.research.google.com/github/StoneyJang/P_PY_Computing/blob/master/eeg_dataset_schizophrenia_using_processed_data.ipynb\" target=\"_parent\"><img src=\"https://colab.research.google.com/assets/colab-badge.svg\" alt=\"Open In Colab\"/></a>"
      ]
    },
    {
      "cell_type": "code",
      "source": [
        "from google.colab import drive\n",
        "drive.mount('/content/drive')"
      ],
      "metadata": {
        "colab": {
          "base_uri": "https://localhost:8080/"
        },
        "id": "7TROU7SpLIzl",
        "outputId": "45f216a3-1265-4b06-b329-b7e5a102d90a"
      },
      "execution_count": 4,
      "outputs": [
        {
          "output_type": "stream",
          "name": "stdout",
          "text": [
            "Mounted at /content/drive\n"
          ]
        }
      ]
    },
    {
      "cell_type": "code",
      "source": [
        "# This Python 3 environment comes with many helpful analytics libraries installed\n",
        "# It is defined by the kaggle/python Docker image: https://github.com/kaggle/docker-python\n",
        "# For example, here's several helpful packages to load\n",
        "\n",
        "import numpy as np # linear algebra\n",
        "import pandas as pd # data processing, CSV file I/O (e.g. pd.read_csv)\n",
        "\n",
        "# Input data files are available in the read-only \"../input/\" directory\n",
        "# For example, running this (by clicking run or pressing Shift+Enter) will list all files under the input directory\n",
        "\n",
        "import os\n",
        "for dirname, _, filenames in os.walk('/content/drive/MyDrive/00_EEG_AI/kaggle/input'):\n",
        "    for filename in filenames:\n",
        "        print(os.path.join(dirname, filename))\n",
        "\n",
        "# You can write up to 20GB to the current directory (/kaggle/working/) that gets preserved as output when you create a version using \"Save & Run All\"\n",
        "# You can also write temporary files to /kaggle/temp/, but they won't be saved outside of the current session"
      ],
      "metadata": {
        "colab": {
          "base_uri": "https://localhost:8080/"
        },
        "id": "3-s5UagZMVzJ",
        "outputId": "f5519728-d1e4-4ce3-b05c-115903897ec6"
      },
      "execution_count": 8,
      "outputs": [
        {
          "output_type": "stream",
          "name": "stdout",
          "text": [
            "/content/drive/MyDrive/00_EEG_AI/kaggle/input/eeg-dataset-schizophrenia/processed_data.csv\n"
          ]
        }
      ]
    },
    {
      "cell_type": "code",
      "source": [
        "import pandas as pd\n",
        "\n",
        "# Path to the CSV file\n",
        "file_path = '/content/drive/MyDrive/00_EEG_AI/kaggle/input/eeg-dataset-schizophrenia/processed_data.csv'\n",
        "\n",
        "# Read the CSV file\n",
        "try:\n",
        "    data = pd.read_csv(file_path)\n",
        "    print(\"CSV file loaded successfully!\")\n",
        "\n",
        "    # Display the first 5 rows\n",
        "    print(data.head())\n",
        "except FileNotFoundError:\n",
        "    print(f\"File not found at {file_path}. Please check the path and try again.\")\n",
        "except Exception as e:\n",
        "    print(f\"An error occurred: {e}\")"
      ],
      "metadata": {
        "colab": {
          "base_uri": "https://localhost:8080/"
        },
        "id": "KOfFkBL7J90I",
        "outputId": "238f6346-81d1-4a06-c149-48ea2943ea9c"
      },
      "execution_count": 9,
      "outputs": [
        {
          "output_type": "stream",
          "name": "stdout",
          "text": [
            "CSV file loaded successfully!\n",
            "        Fp2        F3        F4        C3        C4        P3            P4  \\\n",
            "0  0.000010  0.000012 -0.000008  0.000010 -0.000006  0.000005 -3.971580e-06   \n",
            "1  0.000008  0.000010 -0.000008  0.000009 -0.000006  0.000002 -4.277390e-06   \n",
            "2  0.000002  0.000008 -0.000007  0.000008 -0.000004  0.000002 -3.512864e-06   \n",
            "3  0.000002  0.000008 -0.000008  0.000007 -0.000005  0.000001 -2.748339e-06   \n",
            "4  0.000010  0.000008 -0.000003  0.000005 -0.000002 -0.000001 -9.134780e-07   \n",
            "\n",
            "         O1        O2        F7        F8            T3            T4  \\\n",
            "0 -0.000003 -0.000008  0.000012 -0.000005  4.438200e-06 -2.289624e-06   \n",
            "1 -0.000005 -0.000008  0.000003  0.000002 -1.372193e-06  3.097627e-07   \n",
            "2 -0.000006 -0.000008  0.000003 -0.000002 -2.289624e-06 -2.289624e-06   \n",
            "3 -0.000006 -0.000009  0.000002 -0.000010 -3.054149e-06 -3.818675e-06   \n",
            "4 -0.000008 -0.000011 -0.000001 -0.000001 -6.076678e-07 -2.136719e-06   \n",
            "\n",
            "         T5        T6        Fz            Cz            Pz           Fp1  \\\n",
            "0  0.000004 -0.000005 -0.000001  3.214959e-06  3.952544e-09 -5.658102e-10   \n",
            "1 -0.000002 -0.000005 -0.000003  2.297529e-06 -2.442529e-06 -5.658102e-10   \n",
            "2 -0.000002 -0.000006 -0.000003  1.533003e-06 -1.983814e-06 -5.658102e-10   \n",
            "3 -0.000004 -0.000006 -0.000004  9.213831e-07 -1.830909e-06 -5.658102e-10   \n",
            "4 -0.000007 -0.000005 -0.000002  9.213831e-07 -2.595434e-06 -5.658102e-10   \n",
            "\n",
            "   label  \n",
            "0      0  \n",
            "1      0  \n",
            "2      0  \n",
            "3      0  \n",
            "4      0  \n"
          ]
        }
      ]
    },
    {
      "cell_type": "code",
      "source": [
        "data.shape"
      ],
      "metadata": {
        "colab": {
          "base_uri": "https://localhost:8080/"
        },
        "id": "BYlYoM7BPacj",
        "outputId": "790e803a-c72c-498e-865b-d4c79a3151ae"
      },
      "execution_count": 10,
      "outputs": [
        {
          "output_type": "execute_result",
          "data": {
            "text/plain": [
              "(7215750, 20)"
            ]
          },
          "metadata": {},
          "execution_count": 10
        }
      ]
    }
  ]
}